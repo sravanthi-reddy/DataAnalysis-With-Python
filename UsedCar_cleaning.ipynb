{
 "cells": [
  {
   "cell_type": "code",
   "execution_count": 64,
   "id": "8df2f00c",
   "metadata": {},
   "outputs": [],
   "source": [
    "import pandas as pd\n",
    "import numpy as np\n",
    "import matplotlib.pyplot as plt\n",
    "from datetime import datetime\n"
   ]
  },
  {
   "cell_type": "code",
   "execution_count": 65,
   "id": "55751e56",
   "metadata": {},
   "outputs": [
    {
     "name": "stdout",
     "output_type": "stream",
     "text": [
      "Raw data has 3552912 rows, and 16 columns\n"
     ]
    },
    {
     "data": {
      "text/html": [
       "<div>\n",
       "<style scoped>\n",
       "    .dataframe tbody tr th:only-of-type {\n",
       "        vertical-align: middle;\n",
       "    }\n",
       "\n",
       "    .dataframe tbody tr th {\n",
       "        vertical-align: top;\n",
       "    }\n",
       "\n",
       "    .dataframe thead th {\n",
       "        text-align: right;\n",
       "    }\n",
       "</style>\n",
       "<table border=\"1\" class=\"dataframe\">\n",
       "  <thead>\n",
       "    <tr style=\"text-align: right;\">\n",
       "      <th></th>\n",
       "      <th>maker</th>\n",
       "      <th>model</th>\n",
       "      <th>mileage</th>\n",
       "      <th>manufacture_year</th>\n",
       "      <th>engine_displacement</th>\n",
       "      <th>engine_power</th>\n",
       "      <th>body_type</th>\n",
       "      <th>color_slug</th>\n",
       "      <th>stk_year</th>\n",
       "      <th>transmission</th>\n",
       "      <th>door_count</th>\n",
       "      <th>seat_count</th>\n",
       "      <th>fuel_type</th>\n",
       "      <th>date_created</th>\n",
       "      <th>date_last_seen</th>\n",
       "      <th>price_eur</th>\n",
       "    </tr>\n",
       "  </thead>\n",
       "  <tbody>\n",
       "    <tr>\n",
       "      <th>0</th>\n",
       "      <td>ford</td>\n",
       "      <td>galaxy</td>\n",
       "      <td>151000.0</td>\n",
       "      <td>2011.0</td>\n",
       "      <td>2000.0</td>\n",
       "      <td>103.0</td>\n",
       "      <td>NaN</td>\n",
       "      <td>NaN</td>\n",
       "      <td>None</td>\n",
       "      <td>man</td>\n",
       "      <td>5</td>\n",
       "      <td>7</td>\n",
       "      <td>diesel</td>\n",
       "      <td>2015-11-14 18:10:06.838319+00</td>\n",
       "      <td>2016-01-27 20:40:15.46361+00</td>\n",
       "      <td>10584.75</td>\n",
       "    </tr>\n",
       "    <tr>\n",
       "      <th>1</th>\n",
       "      <td>skoda</td>\n",
       "      <td>octavia</td>\n",
       "      <td>143476.0</td>\n",
       "      <td>2012.0</td>\n",
       "      <td>2000.0</td>\n",
       "      <td>81.0</td>\n",
       "      <td>NaN</td>\n",
       "      <td>NaN</td>\n",
       "      <td>None</td>\n",
       "      <td>man</td>\n",
       "      <td>5</td>\n",
       "      <td>5</td>\n",
       "      <td>diesel</td>\n",
       "      <td>2015-11-14 18:10:06.853411+00</td>\n",
       "      <td>2016-01-27 20:40:15.46361+00</td>\n",
       "      <td>8882.31</td>\n",
       "    </tr>\n",
       "    <tr>\n",
       "      <th>2</th>\n",
       "      <td>bmw</td>\n",
       "      <td>NaN</td>\n",
       "      <td>97676.0</td>\n",
       "      <td>2010.0</td>\n",
       "      <td>1995.0</td>\n",
       "      <td>85.0</td>\n",
       "      <td>NaN</td>\n",
       "      <td>NaN</td>\n",
       "      <td>None</td>\n",
       "      <td>man</td>\n",
       "      <td>5</td>\n",
       "      <td>5</td>\n",
       "      <td>diesel</td>\n",
       "      <td>2015-11-14 18:10:06.861792+00</td>\n",
       "      <td>2016-01-27 20:40:15.46361+00</td>\n",
       "      <td>12065.06</td>\n",
       "    </tr>\n",
       "    <tr>\n",
       "      <th>3</th>\n",
       "      <td>skoda</td>\n",
       "      <td>fabia</td>\n",
       "      <td>111970.0</td>\n",
       "      <td>2004.0</td>\n",
       "      <td>1200.0</td>\n",
       "      <td>47.0</td>\n",
       "      <td>NaN</td>\n",
       "      <td>NaN</td>\n",
       "      <td>None</td>\n",
       "      <td>man</td>\n",
       "      <td>5</td>\n",
       "      <td>5</td>\n",
       "      <td>gasoline</td>\n",
       "      <td>2015-11-14 18:10:06.872313+00</td>\n",
       "      <td>2016-01-27 20:40:15.46361+00</td>\n",
       "      <td>2960.77</td>\n",
       "    </tr>\n",
       "    <tr>\n",
       "      <th>4</th>\n",
       "      <td>skoda</td>\n",
       "      <td>fabia</td>\n",
       "      <td>128886.0</td>\n",
       "      <td>2004.0</td>\n",
       "      <td>1200.0</td>\n",
       "      <td>47.0</td>\n",
       "      <td>NaN</td>\n",
       "      <td>NaN</td>\n",
       "      <td>None</td>\n",
       "      <td>man</td>\n",
       "      <td>5</td>\n",
       "      <td>5</td>\n",
       "      <td>gasoline</td>\n",
       "      <td>2015-11-14 18:10:06.880335+00</td>\n",
       "      <td>2016-01-27 20:40:15.46361+00</td>\n",
       "      <td>2738.71</td>\n",
       "    </tr>\n",
       "  </tbody>\n",
       "</table>\n",
       "</div>"
      ],
      "text/plain": [
       "   maker    model   mileage  manufacture_year  engine_displacement  \\\n",
       "0   ford   galaxy  151000.0            2011.0               2000.0   \n",
       "1  skoda  octavia  143476.0            2012.0               2000.0   \n",
       "2    bmw      NaN   97676.0            2010.0               1995.0   \n",
       "3  skoda    fabia  111970.0            2004.0               1200.0   \n",
       "4  skoda    fabia  128886.0            2004.0               1200.0   \n",
       "\n",
       "   engine_power body_type color_slug stk_year transmission door_count  \\\n",
       "0         103.0       NaN        NaN     None          man          5   \n",
       "1          81.0       NaN        NaN     None          man          5   \n",
       "2          85.0       NaN        NaN     None          man          5   \n",
       "3          47.0       NaN        NaN     None          man          5   \n",
       "4          47.0       NaN        NaN     None          man          5   \n",
       "\n",
       "  seat_count fuel_type                   date_created  \\\n",
       "0          7    diesel  2015-11-14 18:10:06.838319+00   \n",
       "1          5    diesel  2015-11-14 18:10:06.853411+00   \n",
       "2          5    diesel  2015-11-14 18:10:06.861792+00   \n",
       "3          5  gasoline  2015-11-14 18:10:06.872313+00   \n",
       "4          5  gasoline  2015-11-14 18:10:06.880335+00   \n",
       "\n",
       "                 date_last_seen  price_eur  \n",
       "0  2016-01-27 20:40:15.46361+00   10584.75  \n",
       "1  2016-01-27 20:40:15.46361+00    8882.31  \n",
       "2  2016-01-27 20:40:15.46361+00   12065.06  \n",
       "3  2016-01-27 20:40:15.46361+00    2960.77  \n",
       "4  2016-01-27 20:40:15.46361+00    2738.71  "
      ]
     },
     "execution_count": 65,
     "metadata": {},
     "output_type": "execute_result"
    }
   ],
   "source": [
    "\n",
    "dtypes = {\n",
    "    \"maker\": str, \n",
    "    \"model\": str,\n",
    "    \"mileage\": float, # kilo meters\n",
    "    \"manufacture_year\": float,\n",
    "    \"engine_displacement\": float,  #in ccm\n",
    "    \"engine_power\": float, #in kW\n",
    "    \"body_type\": str,  \n",
    "    \"color_slug\": str, \n",
    "    \"stk_year\": str, # year of the last emission control\n",
    "    \"transmission\": str, # automatic or manual\n",
    "    \"door_count\": str,\n",
    "    \"seat_count\": str,\n",
    "    \"fuel_type\": str, # gasoline or diesel\n",
    "    \"date_created\": str, # when the ad was scraped\n",
    "    \"date_last_seen\": str, # when the ad was last seen\n",
    "    \"price_eur\": float} # price in euros\n",
    "\n",
    "df = pd.read_csv(\"cars_data_original.csv\", dtype=dtypes)\n",
    "print(f\"Raw data has {df.shape[0]} rows, and {df.shape[1]} columns\")\n",
    "df.head()\n"
   ]
  },
  {
   "cell_type": "code",
   "execution_count": 66,
   "id": "60bd06ba",
   "metadata": {},
   "outputs": [],
   "source": [
    "#body_type, color_slug and stk_year - no proper values and not considering for analysis\n",
    "#Date created and date last seen - derived new variable to calculate the time taken to sell a car"
   ]
  },
  {
   "cell_type": "code",
   "execution_count": 67,
   "id": "30542c2d",
   "metadata": {},
   "outputs": [
    {
     "data": {
      "text/html": [
       "<div>\n",
       "<style scoped>\n",
       "    .dataframe tbody tr th:only-of-type {\n",
       "        vertical-align: middle;\n",
       "    }\n",
       "\n",
       "    .dataframe tbody tr th {\n",
       "        vertical-align: top;\n",
       "    }\n",
       "\n",
       "    .dataframe thead th {\n",
       "        text-align: right;\n",
       "    }\n",
       "</style>\n",
       "<table border=\"1\" class=\"dataframe\">\n",
       "  <thead>\n",
       "    <tr style=\"text-align: right;\">\n",
       "      <th></th>\n",
       "      <th>mileage</th>\n",
       "      <th>manufacture_year</th>\n",
       "      <th>engine_displacement</th>\n",
       "      <th>engine_power</th>\n",
       "      <th>price_eur</th>\n",
       "    </tr>\n",
       "  </thead>\n",
       "  <tbody>\n",
       "    <tr>\n",
       "      <th>count</th>\n",
       "      <td>3.19033e+06</td>\n",
       "      <td>3.18233e+06</td>\n",
       "      <td>2.8095e+06</td>\n",
       "      <td>2.99804e+06</td>\n",
       "      <td>3.55291e+06</td>\n",
       "    </tr>\n",
       "    <tr>\n",
       "      <th>mean</th>\n",
       "      <td>115814</td>\n",
       "      <td>2000.87</td>\n",
       "      <td>2043.96</td>\n",
       "      <td>98.468</td>\n",
       "      <td>1.62581e+06</td>\n",
       "    </tr>\n",
       "    <tr>\n",
       "      <th>std</th>\n",
       "      <td>342251</td>\n",
       "      <td>81.7259</td>\n",
       "      <td>1973.96</td>\n",
       "      <td>49.0731</td>\n",
       "      <td>2.02562e+09</td>\n",
       "    </tr>\n",
       "    <tr>\n",
       "      <th>min</th>\n",
       "      <td>0</td>\n",
       "      <td>0</td>\n",
       "      <td>0</td>\n",
       "      <td>1</td>\n",
       "      <td>0.04</td>\n",
       "    </tr>\n",
       "    <tr>\n",
       "      <th>25%</th>\n",
       "      <td>18800</td>\n",
       "      <td>2004</td>\n",
       "      <td>1400</td>\n",
       "      <td>68</td>\n",
       "      <td>1295.34</td>\n",
       "    </tr>\n",
       "    <tr>\n",
       "      <th>50%</th>\n",
       "      <td>86415</td>\n",
       "      <td>2009</td>\n",
       "      <td>1798</td>\n",
       "      <td>86</td>\n",
       "      <td>7364.91</td>\n",
       "    </tr>\n",
       "    <tr>\n",
       "      <th>75%</th>\n",
       "      <td>158025</td>\n",
       "      <td>2013</td>\n",
       "      <td>1997</td>\n",
       "      <td>110</td>\n",
       "      <td>16284.2</td>\n",
       "    </tr>\n",
       "    <tr>\n",
       "      <th>max</th>\n",
       "      <td>1e+07</td>\n",
       "      <td>2017</td>\n",
       "      <td>32767</td>\n",
       "      <td>2237</td>\n",
       "      <td>2.70615e+12</td>\n",
       "    </tr>\n",
       "  </tbody>\n",
       "</table>\n",
       "</div>"
      ],
      "text/plain": [
       "           mileage manufacture_year engine_displacement engine_power  \\\n",
       "count  3.19033e+06      3.18233e+06          2.8095e+06  2.99804e+06   \n",
       "mean        115814          2000.87             2043.96       98.468   \n",
       "std         342251          81.7259             1973.96      49.0731   \n",
       "min              0                0                   0            1   \n",
       "25%          18800             2004                1400           68   \n",
       "50%          86415             2009                1798           86   \n",
       "75%         158025             2013                1997          110   \n",
       "max          1e+07             2017               32767         2237   \n",
       "\n",
       "         price_eur  \n",
       "count  3.55291e+06  \n",
       "mean   1.62581e+06  \n",
       "std    2.02562e+09  \n",
       "min           0.04  \n",
       "25%        1295.34  \n",
       "50%        7364.91  \n",
       "75%        16284.2  \n",
       "max    2.70615e+12  "
      ]
     },
     "execution_count": 67,
     "metadata": {},
     "output_type": "execute_result"
    }
   ],
   "source": [
    "df.describe().apply(lambda s: s.apply(lambda x: format(x, 'g')))"
   ]
  },
  {
   "cell_type": "code",
   "execution_count": 68,
   "id": "50f58250",
   "metadata": {},
   "outputs": [
    {
     "name": "stdout",
     "output_type": "stream",
     "text": [
      "maker                   518915\n",
      "model                  1133361\n",
      "mileage                 362584\n",
      "manufacture_year        370578\n",
      "engine_displacement     743414\n",
      "engine_power            554877\n",
      "body_type              1122914\n",
      "color_slug             3343411\n",
      "stk_year               1708156\n",
      "transmission            741630\n",
      "door_count              614373\n",
      "seat_count              749489\n",
      "fuel_type              1847606\n",
      "date_created                 0\n",
      "date_last_seen               0\n",
      "price_eur                    0\n",
      "dtype: int64\n"
     ]
    }
   ],
   "source": [
    "#Dropping unwated columns \n",
    "print(df.isna().sum())"
   ]
  },
  {
   "cell_type": "code",
   "execution_count": 69,
   "id": "568b481d",
   "metadata": {},
   "outputs": [],
   "source": [
    "from datetime import datetime\n",
    "\n",
    "df[\"date_created_time\"] = pd.to_datetime(df[\"date_created\"])\n",
    "df[\"date_last_seen_time\"] = pd.to_datetime(df[\"date_last_seen\"])"
   ]
  },
  {
   "cell_type": "code",
   "execution_count": 70,
   "id": "e6807ab7",
   "metadata": {},
   "outputs": [],
   "source": [
    "df[\"sales_duration\"] = (df[\"date_last_seen_time\"] - df[\"date_created_time\"]).dt.days"
   ]
  },
  {
   "cell_type": "code",
   "execution_count": 71,
   "id": "70defada",
   "metadata": {},
   "outputs": [
    {
     "data": {
      "text/html": [
       "<div>\n",
       "<style scoped>\n",
       "    .dataframe tbody tr th:only-of-type {\n",
       "        vertical-align: middle;\n",
       "    }\n",
       "\n",
       "    .dataframe tbody tr th {\n",
       "        vertical-align: top;\n",
       "    }\n",
       "\n",
       "    .dataframe thead th {\n",
       "        text-align: right;\n",
       "    }\n",
       "</style>\n",
       "<table border=\"1\" class=\"dataframe\">\n",
       "  <thead>\n",
       "    <tr style=\"text-align: right;\">\n",
       "      <th></th>\n",
       "      <th>maker</th>\n",
       "      <th>model</th>\n",
       "      <th>mileage</th>\n",
       "      <th>manufacture_year</th>\n",
       "      <th>engine_displacement</th>\n",
       "      <th>engine_power</th>\n",
       "      <th>body_type</th>\n",
       "      <th>color_slug</th>\n",
       "      <th>stk_year</th>\n",
       "      <th>transmission</th>\n",
       "      <th>door_count</th>\n",
       "      <th>seat_count</th>\n",
       "      <th>fuel_type</th>\n",
       "      <th>date_created</th>\n",
       "      <th>date_last_seen</th>\n",
       "      <th>price_eur</th>\n",
       "      <th>date_created_time</th>\n",
       "      <th>date_last_seen_time</th>\n",
       "      <th>sales_duration</th>\n",
       "    </tr>\n",
       "  </thead>\n",
       "  <tbody>\n",
       "    <tr>\n",
       "      <th>0</th>\n",
       "      <td>ford</td>\n",
       "      <td>galaxy</td>\n",
       "      <td>151000.0</td>\n",
       "      <td>2011.0</td>\n",
       "      <td>2000.0</td>\n",
       "      <td>103.0</td>\n",
       "      <td>NaN</td>\n",
       "      <td>NaN</td>\n",
       "      <td>None</td>\n",
       "      <td>man</td>\n",
       "      <td>5</td>\n",
       "      <td>7</td>\n",
       "      <td>diesel</td>\n",
       "      <td>2015-11-14 18:10:06.838319+00</td>\n",
       "      <td>2016-01-27 20:40:15.46361+00</td>\n",
       "      <td>10584.75</td>\n",
       "      <td>2015-11-14 18:10:06.838319+00:00</td>\n",
       "      <td>2016-01-27 20:40:15.463610+00:00</td>\n",
       "      <td>74</td>\n",
       "    </tr>\n",
       "    <tr>\n",
       "      <th>1</th>\n",
       "      <td>skoda</td>\n",
       "      <td>octavia</td>\n",
       "      <td>143476.0</td>\n",
       "      <td>2012.0</td>\n",
       "      <td>2000.0</td>\n",
       "      <td>81.0</td>\n",
       "      <td>NaN</td>\n",
       "      <td>NaN</td>\n",
       "      <td>None</td>\n",
       "      <td>man</td>\n",
       "      <td>5</td>\n",
       "      <td>5</td>\n",
       "      <td>diesel</td>\n",
       "      <td>2015-11-14 18:10:06.853411+00</td>\n",
       "      <td>2016-01-27 20:40:15.46361+00</td>\n",
       "      <td>8882.31</td>\n",
       "      <td>2015-11-14 18:10:06.853411+00:00</td>\n",
       "      <td>2016-01-27 20:40:15.463610+00:00</td>\n",
       "      <td>74</td>\n",
       "    </tr>\n",
       "    <tr>\n",
       "      <th>2</th>\n",
       "      <td>bmw</td>\n",
       "      <td>NaN</td>\n",
       "      <td>97676.0</td>\n",
       "      <td>2010.0</td>\n",
       "      <td>1995.0</td>\n",
       "      <td>85.0</td>\n",
       "      <td>NaN</td>\n",
       "      <td>NaN</td>\n",
       "      <td>None</td>\n",
       "      <td>man</td>\n",
       "      <td>5</td>\n",
       "      <td>5</td>\n",
       "      <td>diesel</td>\n",
       "      <td>2015-11-14 18:10:06.861792+00</td>\n",
       "      <td>2016-01-27 20:40:15.46361+00</td>\n",
       "      <td>12065.06</td>\n",
       "      <td>2015-11-14 18:10:06.861792+00:00</td>\n",
       "      <td>2016-01-27 20:40:15.463610+00:00</td>\n",
       "      <td>74</td>\n",
       "    </tr>\n",
       "  </tbody>\n",
       "</table>\n",
       "</div>"
      ],
      "text/plain": [
       "   maker    model   mileage  manufacture_year  engine_displacement  \\\n",
       "0   ford   galaxy  151000.0            2011.0               2000.0   \n",
       "1  skoda  octavia  143476.0            2012.0               2000.0   \n",
       "2    bmw      NaN   97676.0            2010.0               1995.0   \n",
       "\n",
       "   engine_power body_type color_slug stk_year transmission door_count  \\\n",
       "0         103.0       NaN        NaN     None          man          5   \n",
       "1          81.0       NaN        NaN     None          man          5   \n",
       "2          85.0       NaN        NaN     None          man          5   \n",
       "\n",
       "  seat_count fuel_type                   date_created  \\\n",
       "0          7    diesel  2015-11-14 18:10:06.838319+00   \n",
       "1          5    diesel  2015-11-14 18:10:06.853411+00   \n",
       "2          5    diesel  2015-11-14 18:10:06.861792+00   \n",
       "\n",
       "                 date_last_seen  price_eur                date_created_time  \\\n",
       "0  2016-01-27 20:40:15.46361+00   10584.75 2015-11-14 18:10:06.838319+00:00   \n",
       "1  2016-01-27 20:40:15.46361+00    8882.31 2015-11-14 18:10:06.853411+00:00   \n",
       "2  2016-01-27 20:40:15.46361+00   12065.06 2015-11-14 18:10:06.861792+00:00   \n",
       "\n",
       "               date_last_seen_time  sales_duration  \n",
       "0 2016-01-27 20:40:15.463610+00:00              74  \n",
       "1 2016-01-27 20:40:15.463610+00:00              74  \n",
       "2 2016-01-27 20:40:15.463610+00:00              74  "
      ]
     },
     "execution_count": 71,
     "metadata": {},
     "output_type": "execute_result"
    }
   ],
   "source": [
    "df.head(3)"
   ]
  },
  {
   "cell_type": "code",
   "execution_count": 72,
   "id": "d06e3cb6",
   "metadata": {},
   "outputs": [],
   "source": [
    "df.drop([\"body_type\",\"color_slug\",\"stk_year\",\"date_created\",\"date_last_seen\",\"date_created_time\",\"date_last_seen_time\",\"seat_count\"], axis=1, inplace=True)"
   ]
  },
  {
   "cell_type": "code",
   "execution_count": 73,
   "id": "79927363",
   "metadata": {},
   "outputs": [],
   "source": [
    "df.dropna(subset = [\"model\",\"maker\"], inplace=True)"
   ]
  },
  {
   "cell_type": "code",
   "execution_count": 74,
   "id": "d23f3389",
   "metadata": {},
   "outputs": [
    {
     "name": "stdout",
     "output_type": "stream",
     "text": [
      "after cleaning maker and model : \n"
     ]
    },
    {
     "data": {
      "text/plain": [
       "maker                        0\n",
       "model                        0\n",
       "mileage                 235242\n",
       "manufacture_year        241910\n",
       "engine_displacement     454854\n",
       "engine_power            325709\n",
       "transmission            495397\n",
       "door_count              478163\n",
       "fuel_type              1434047\n",
       "price_eur                    0\n",
       "sales_duration               0\n",
       "dtype: int64"
      ]
     },
     "execution_count": 74,
     "metadata": {},
     "output_type": "execute_result"
    }
   ],
   "source": [
    "print(\"after cleaning maker and model : \")\n",
    "df.isna().sum()"
   ]
  },
  {
   "cell_type": "code",
   "execution_count": 91,
   "id": "c7115557",
   "metadata": {},
   "outputs": [
    {
     "name": "stdout",
     "output_type": "stream",
     "text": [
      "fuel type mode table :            maker model mode_fuel_type\n",
      "0    alfa-romeo   145       gasoline\n",
      "1    alfa-romeo   146       gasoline\n",
      "2    alfa-romeo   147       gasoline\n",
      "3    alfa-romeo   155       electric\n",
      "4    alfa-romeo   156         diesel\n",
      "..          ...   ...            ...\n",
      "944       volvo   v70         diesel\n",
      "945       volvo   v90         diesel\n",
      "946       volvo  xc60         diesel\n",
      "947       volvo  xc70         diesel\n",
      "948       volvo  xc90         diesel\n",
      "\n",
      "[949 rows x 3 columns]\n",
      "\n",
      "after dropping the fuel type : \n",
      "\n",
      "\n",
      "maker                  0\n",
      "model                  0\n",
      "mileage                0\n",
      "manufacture_year       0\n",
      "engine_displacement    0\n",
      "engine_power           0\n",
      "transmission           0\n",
      "door_count             0\n",
      "fuel_type              0\n",
      "price_eur              0\n",
      "sales_duration         0\n",
      "dtype: int64\n"
     ]
    }
   ],
   "source": [
    "#Fuel type cleaning\n",
    "\n",
    "fuel_type_mode = df.loc[df[\"fuel_type\"].notna()].groupby([\"maker\",\"model\"])[\"fuel_type\"].agg(lambda x:x.value_counts().index[0]).\\\n",
    "rename(\"mode_fuel_type\").reset_index()\n",
    "print(\"fuel type mode table : \",fuel_type_mode)\n",
    "df = df.merge(fuel_type_mode, how=\"left\", on=[\"maker\",\"model\"])\n",
    "df[\"fuel_type\"] = df[\"fuel_type\"].fillna(df[\"mode_fuel_type\"]) # fill nan values with the mode of fuel_type\n",
    "df.drop([\"mode_fuel_type\"], axis=1, inplace=True)\n",
    "print(\"\\nafter dropping the fuel type : \\n\\n\")\n",
    "print(df.isna().sum())\n"
   ]
  },
  {
   "cell_type": "code",
   "execution_count": 76,
   "id": "65462d32",
   "metadata": {},
   "outputs": [
    {
     "name": "stdout",
     "output_type": "stream",
     "text": [
      "after cleaning mileage maker                       0\n",
      "model                       0\n",
      "mileage                 66534\n",
      "manufacture_year       241910\n",
      "engine_displacement    454854\n",
      "engine_power           325709\n",
      "transmission           495397\n",
      "door_count             478163\n",
      "fuel_type                 563\n",
      "price_eur                   0\n",
      "sales_duration              0\n",
      "dtype: int64\n"
     ]
    }
   ],
   "source": [
    "#mileage cleaning\n",
    "\n",
    "df_mileage_group = df.groupby([\"manufacture_year\"])[\"mileage\"].mean().round().rename(\"avg_mileage\")\n",
    "df = df.merge(df_mileage_group, how=\"left\", on=[\"manufacture_year\"])\n",
    "df[\"mileage\"] = df[\"mileage\"].fillna(df[\"avg_mileage\"])\n",
    "df.drop([\"avg_mileage\"], axis=1, inplace=True)\n",
    "print(\"\\nafter cleaning mileage : \\n\\n\")\n",
    "print(df.isna().sum())"
   ]
  },
  {
   "cell_type": "code",
   "execution_count": 77,
   "id": "e9cc318f",
   "metadata": {},
   "outputs": [],
   "source": [
    "df.dropna(subset = [\"fuel_type\",\"mileage\"], inplace=True)"
   ]
  },
  {
   "cell_type": "code",
   "execution_count": 78,
   "id": "0bb55bb9",
   "metadata": {},
   "outputs": [
    {
     "name": "stdout",
     "output_type": "stream",
     "text": [
      "after cleaning maker                  0\n",
      "model                  0\n",
      "mileage                0\n",
      "manufacture_year       0\n",
      "engine_displacement    0\n",
      "engine_power           0\n",
      "transmission           0\n",
      "door_count             0\n",
      "fuel_type              0\n",
      "price_eur              0\n",
      "sales_duration         0\n",
      "dtype: int64\n"
     ]
    }
   ],
   "source": [
    "# Manufacture Year\n",
    "\n",
    "min_year = 1885 # minimum threshold of the year. Lower values will be replaced with the average of manufacture_year\n",
    "avg_year = df.loc[df['manufacture_year'] >= 1885].manufacture_year.mean()\n",
    "df.loc[df.manufacture_year < 1885,\"manufacture_year\"] = avg_year\n",
    "df.dropna(subset = [\"manufacture_year\"],inplace=True)\n",
    "\n",
    "\n",
    "# engine_displacement \n",
    "\n",
    "min_displacement = 600 # minimum threshold of the year. Lower values will be replaced with the average of manufacture_year\n",
    "df.loc[df.engine_displacement < 600 ,\"engine_displacement\"] = min_displacement\n",
    "avg_displacement = df.engine_displacement.mean()\n",
    "df.engine_displacement.fillna(avg_displacement,inplace=True)\n",
    "\n",
    "\n",
    "# engine_power \n",
    "\n",
    "avg_engine_power = df.engine_power.mean()\n",
    "df.engine_power.fillna(avg_engine_power,inplace=True)\n",
    "df.isna().sum()\n",
    "\n",
    "#price\n",
    "\n",
    "df = df.drop(df[(df.price_eur < 2184) & (df.price_eur > 100000)].index)\n",
    "df = df.drop(df[df.door_count == \"None\"].index)\n",
    "\n",
    "#Drop na rows of door count and transmission \n",
    "df.dropna(subset = [\"door_count\",\"transmission\"], inplace=True)\n",
    "\n",
    "print(\"\\nafter cleaning : \\n\",df.isna().sum())\n"
   ]
  },
  {
   "cell_type": "code",
   "execution_count": 79,
   "id": "e53c4b49",
   "metadata": {
    "scrolled": true
   },
   "outputs": [
    {
     "data": {
      "text/plain": [
       "<matplotlib.legend.Legend at 0x23084501520>"
      ]
     },
     "execution_count": 79,
     "metadata": {},
     "output_type": "execute_result"
    },
    {
     "data": {
      "image/png": "[encoded data removed]",
      "text/plain": [
       "<Figure size 432x288 with 1 Axes>"
      ]
     },
     "metadata": {},
     "output_type": "display_data"
    }
   ],
   "source": [
    "#Most frequently sold car brands.\n",
    "\n",
    "count = df.groupby('maker').model.count().reset_index(name='count').sort_values(['count'], ascending=False)[:10]\n",
    "maker_count = df.groupby('maker').model.count().sort_values(ascending=False)[:10].plot.pie(autopct='%1.1f%%', shadow=False,legend=True, fontsize=10,labels=None,ylabel='',radius=1.5)\n",
    "plt.legend(count['maker'],loc=\"right\",fontsize=\"x-large\",title=\"maker\",title_fontsize=\"x-large\",bbox_to_anchor=(2, 0.5), ncol=1)\n"
   ]
  },
  {
   "cell_type": "code",
   "execution_count": 80,
   "id": "8821f3a4",
   "metadata": {},
   "outputs": [
    {
     "name": "stdout",
     "output_type": "stream",
     "text": [
      "Average Price in euros :  12734\n"
     ]
    },
    {
     "data": {
      "image/png": "[encoded data removed]",
      "text/plain": [
       "<Figure size 648x504 with 1 Axes>"
      ]
     },
     "metadata": {
      "needs_background": "light"
     },
     "output_type": "display_data"
    }
   ],
   "source": [
    "#Makers with Highest Average Price\n",
    "\n",
    "print(\"Average Price in euros : \",round(df['price_eur'].mean()))\n",
    "\n",
    "topmakers = df.groupby('maker')['price_eur'].mean().sort_values(ascending=False).head(7);\n",
    "ax = topmakers.plot(figsize=(9,7))\n",
    "ax.set_title(\"Makers with Highest Average Price\",fontname=\"Times New Roman\", size=18,fontweight=\"bold\").set_color('blue')\n",
    "ax.set_xlabel(\"Maker\",fontsize=16,fontname=\"Times New Roman\").set_color('blue')\n",
    "ax.set_ylabel(\"Average Price - Euros\",fontsize=16,fontname=\"Times New Roman\").set_color('blue')\n",
    "ax.tick_params(labelsize=14)\n"
   ]
  },
  {
   "cell_type": "code",
   "execution_count": 81,
   "id": "e286bc35",
   "metadata": {},
   "outputs": [
    {
     "data": {
      "image/png": "[encoded data removed]",
      "text/plain": [
       "<Figure size 648x504 with 1 Axes>"
      ]
     },
     "metadata": {
      "needs_background": "light"
     },
     "output_type": "display_data"
    }
   ],
   "source": [
    "#Makers with Highest Average Price\n",
    "\n",
    "leastmakers = df.groupby('maker')['price_eur'].mean().sort_values(ascending=True).head(7);\n",
    "\n",
    "ax = leastmakers.plot(figsize=(9,7))\n",
    "ax.set_title(\"Makers with Least Average Price\",fontname=\"Times New Roman\", size=18,fontweight=\"bold\").set_color('blue')\n",
    "ax.set_xlabel(\"Maker\",fontsize=16,fontname=\"Times New Roman\").set_color('blue')\n",
    "ax.set_ylabel(\"Average Price - Euros\",fontsize=16,fontname=\"Times New Roman\").set_color('blue')\n",
    "ax.tick_params(labelsize=14)\n"
   ]
  },
  {
   "cell_type": "code",
   "execution_count": 82,
   "id": "28ca5662",
   "metadata": {},
   "outputs": [
    {
     "data": {
      "text/html": [
       "<div>\n",
       "<style scoped>\n",
       "    .dataframe tbody tr th:only-of-type {\n",
       "        vertical-align: middle;\n",
       "    }\n",
       "\n",
       "    .dataframe tbody tr th {\n",
       "        vertical-align: top;\n",
       "    }\n",
       "\n",
       "    .dataframe thead th {\n",
       "        text-align: right;\n",
       "    }\n",
       "</style>\n",
       "<table border=\"1\" class=\"dataframe\">\n",
       "  <thead>\n",
       "    <tr style=\"text-align: right;\">\n",
       "      <th></th>\n",
       "      <th>maker</th>\n",
       "      <th>average_price-euros</th>\n",
       "      <th>average_sale_duration -days</th>\n",
       "    </tr>\n",
       "  </thead>\n",
       "  <tbody>\n",
       "    <tr>\n",
       "      <th>0</th>\n",
       "      <td>audi</td>\n",
       "      <td>21442.0</td>\n",
       "      <td>87.0</td>\n",
       "    </tr>\n",
       "    <tr>\n",
       "      <th>1</th>\n",
       "      <td>ford</td>\n",
       "      <td>9406.0</td>\n",
       "      <td>85.0</td>\n",
       "    </tr>\n",
       "    <tr>\n",
       "      <th>2</th>\n",
       "      <td>opel</td>\n",
       "      <td>8519.0</td>\n",
       "      <td>88.0</td>\n",
       "    </tr>\n",
       "    <tr>\n",
       "      <th>3</th>\n",
       "      <td>skoda</td>\n",
       "      <td>7250.0</td>\n",
       "      <td>63.0</td>\n",
       "    </tr>\n",
       "    <tr>\n",
       "      <th>4</th>\n",
       "      <td>volkswagen</td>\n",
       "      <td>12452.0</td>\n",
       "      <td>114.0</td>\n",
       "    </tr>\n",
       "  </tbody>\n",
       "</table>\n",
       "</div>"
      ],
      "text/plain": [
       "        maker  average_price-euros  average_sale_duration -days\n",
       "0        audi              21442.0                         87.0\n",
       "1        ford               9406.0                         85.0\n",
       "2        opel               8519.0                         88.0\n",
       "3       skoda               7250.0                         63.0\n",
       "4  volkswagen              12452.0                        114.0"
      ]
     },
     "execution_count": 82,
     "metadata": {},
     "output_type": "execute_result"
    }
   ],
   "source": [
    "#Sales Duration and Average Price for targeted makers\n",
    "\n",
    "df_maker =  df.loc[df[\"maker\"].isin([\"volkswagen\",\"opel\",\"skoda\",\"audi\",\"ford\"])]\n",
    "pd.pivot_table(df_maker,index=['maker'],values=[\"price_eur\",\"sales_duration\"],aggfunc={\"price_eur\":np.mean,\"sales_duration\":np.mean}). \\\n",
    "reset_index().rename(columns={'price_eur': 'average_price-euros', 'sales_duration': 'average_sale_duration -days'}).round()\n"
   ]
  },
  {
   "cell_type": "code",
   "execution_count": 105,
   "id": "1a2df20d",
   "metadata": {},
   "outputs": [
    {
     "name": "stdout",
     "output_type": "stream",
     "text": [
      "  fuel_type   count\n",
      "1  gasoline  816028\n",
      "0    diesel  649010\n",
      "\n",
      "Fuel Type Distribution in the Dataset - Number of Cars by Fuel type\n"
     ]
    },
    {
     "data": {
      "text/plain": [
       "<matplotlib.legend.Legend at 0x23085d93fd0>"
      ]
     },
     "execution_count": 105,
     "metadata": {},
     "output_type": "execute_result"
    },
    {
     "data": {
      "image/png": "[encoded data removed]",
      "text/plain": [
       "<Figure size 432x288 with 1 Axes>"
      ]
     },
     "metadata": {},
     "output_type": "display_data"
    }
   ],
   "source": [
    "#Fuel Type Distribution \n",
    "\n",
    "count = df.loc[df['fuel_type'].isin([\"gasoline\",\"diesel\"])].groupby('fuel_type').model.count().reset_index(name='count').sort_values(['count'], ascending=False)[:6]\n",
    "maker_count = df.loc[df['fuel_type'].isin([\"gasoline\",\"diesel\"])].groupby('fuel_type').model.count().sort_values(ascending=False)[:6].plot.pie(autopct='%1.1f%%', shadow=False,legend=True, fontsize=10,labels=None,ylabel='',radius=1.5)\n",
    "\n",
    "print(count)\n",
    "print(\"\\nFuel Type Distribution in the Dataset - Number of Cars by Fuel type\")\n",
    "plt.legend(count['fuel_type'],loc=\"right\",fontsize=\"x-large\",title=\"Fuel Type\",title_fontsize=\"x-large\",bbox_to_anchor=(2, 0.5), ncol=1)\n"
   ]
  },
  {
   "cell_type": "code",
   "execution_count": 99,
   "id": "62379021",
   "metadata": {},
   "outputs": [
    {
     "data": {
      "text/plain": [
       "Text(0.5, 1.0, 'Average Price By Fuel Type')"
      ]
     },
     "execution_count": 99,
     "metadata": {},
     "output_type": "execute_result"
    },
    {
     "data": {
      "image/png": "[encoded data removed]",
      "text/plain": [
       "<Figure size 648x432 with 1 Axes>"
      ]
     },
     "metadata": {
      "needs_background": "light"
     },
     "output_type": "display_data"
    }
   ],
   "source": [
    "#Average Price By Fuel Type\n",
    "\n",
    "Fuel_type_price = df.loc[df['fuel_type'].isin([\"gasoline\",\"diesel\"])].groupby('fuel_type')['price_eur'].mean().sort_values(ascending=False);\n",
    "Fuel_type_price.plot(kind='barh',fontsize=\"x-large\",figsize=(9,6))\n",
    "#plt.legend(loc='best', fontsize=15,bbox_to_anchor=(1, 1))\n",
    "plt.xlabel(\"Average Price\",fontsize=15)\n",
    "plt.ylabel(\"Fuel Type\",fontsize=15)\n",
    "plt.title(\"Average Price By Fuel Type\",fontsize=15)\n"
   ]
  },
  {
   "cell_type": "code",
   "execution_count": 85,
   "id": "e6f70621",
   "metadata": {
    "scrolled": true
   },
   "outputs": [
    {
     "name": "stdout",
     "output_type": "stream",
     "text": [
      "Average sale duration :  90\n"
     ]
    },
    {
     "data": {
      "image/png": "[encoded data removed]",
      "text/plain": [
       "<Figure size 504x360 with 1 Axes>"
      ]
     },
     "metadata": {
      "needs_background": "light"
     },
     "output_type": "display_data"
    }
   ],
   "source": [
    "#Average Sale Duration By Maker\n",
    "\n",
    "averagesale = df.groupby('maker')['sales_duration'].mean().sort_values(ascending=True).head(10);\n",
    "\n",
    "ax = averagesale.plot(figsize=(7,5))\n",
    "ax.set_title(\"Average Sale Duration By Maker\",fontname=\"Times New Roman\", size=18,fontweight=\"bold\").set_color('blue')\n",
    "ax.set_xlabel(\"Maker\",fontsize=16,fontname=\"Times New Roman\").set_color('blue')\n",
    "ax.set_ylabel(\"Average Sale Duration - Days\",fontsize=16,fontname=\"Times New Roman\").set_color('blue')\n",
    "ax.tick_params(labelsize=14)\n",
    "\n",
    "df_maker =  df.loc[df[\"maker\"].isin([\"dacia\",\"alfa-romeo\",\"rolls-royce\"])]\n",
    "pd.pivot_table(df_maker,index=['maker'],values=[\"price_eur\"],aggfunc={\"price_eur\":np.mean}). \\\n",
    "reset_index().rename(columns={'price_eur': 'average_price-euros'}).round()\n",
    "\n",
    "print(\"Average sale duration : \",round(df['sales_duration'].mean()))\n"
   ]
  },
  {
   "cell_type": "code",
   "execution_count": 86,
   "id": "e48b76cd",
   "metadata": {},
   "outputs": [
    {
     "data": {
      "text/plain": [
       "(0.0, 100.0, 0.0, 100.0)"
      ]
     },
     "execution_count": 86,
     "metadata": {},
     "output_type": "execute_result"
    },
    {
     "data": {
      "image/png": "[encoded data removed]",
      "text/plain": [
       "<Figure size 864x432 with 1 Axes>"
      ]
     },
     "metadata": {
      "needs_background": "light"
     },
     "output_type": "display_data"
    }
   ],
   "source": [
    "#Top selling models from targeted makers\n",
    "\n",
    "import squarify\n",
    "models_count = df[df[\"maker\"].isin([\"volkswagen\",\"opel\",\"skoda\",\"audi\",\"ford\"])].groupby(['maker','model']).size().reset_index(name=\"counts\").sort_values(['counts'],ascending=False).head(15)\n",
    "\n",
    "sizes = models_count.counts.to_list()\n",
    "np.random.seed(seed=123456)\n",
    "color = plt.cm.Dark2(np.random.rand(len(sizes)))\n",
    "label = list(zip(models_count.maker,models_count.model))\n",
    "\n",
    "# treemap plot\n",
    "plt.figure(figsize=(12,6))\n",
    "squarify.plot(sizes=sizes, \n",
    "              color=color, \n",
    "              label=label, \n",
    "              pad=True)\n",
    "# labels\n",
    "plt.title('Top selling models from targeted makers')\n",
    "plt.axis('off')\n"
   ]
  },
  {
   "cell_type": "code",
   "execution_count": null,
   "id": "f6a6d6c0",
   "metadata": {},
   "outputs": [],
   "source": []
  },
  {
   "cell_type": "code",
   "execution_count": null,
   "id": "6a3e44fc",
   "metadata": {},
   "outputs": [],
   "source": []
  },
  {
   "cell_type": "code",
   "execution_count": null,
   "id": "140c0c2a",
   "metadata": {},
   "outputs": [],
   "source": []
  },
  {
   "cell_type": "code",
   "execution_count": null,
   "id": "3dd293a2",
   "metadata": {},
   "outputs": [],
   "source": []
  },
  {
   "cell_type": "code",
   "execution_count": null,
   "id": "6c74a303",
   "metadata": {},
   "outputs": [],
   "source": []
  },
  {
   "cell_type": "code",
   "execution_count": null,
   "id": "fa14d512",
   "metadata": {},
   "outputs": [],
   "source": []
  },
  {
   "cell_type": "code",
   "execution_count": null,
   "id": "3c5e632f",
   "metadata": {},
   "outputs": [],
   "source": []
  },
  {
   "cell_type": "code",
   "execution_count": null,
   "id": "ee6375a6",
   "metadata": {},
   "outputs": [],
   "source": []
  },
  {
   "cell_type": "code",
   "execution_count": null,
   "id": "2c4697d6",
   "metadata": {},
   "outputs": [],
   "source": []
  },
  {
   "cell_type": "code",
   "execution_count": null,
   "id": "f02f5e67",
   "metadata": {},
   "outputs": [],
   "source": []
  },
  {
   "cell_type": "code",
   "execution_count": null,
   "id": "d6052e3c",
   "metadata": {},
   "outputs": [],
   "source": []
  },
  {
   "cell_type": "code",
   "execution_count": null,
   "id": "d5efbbc5",
   "metadata": {},
   "outputs": [],
   "source": []
  }
 ],
 "metadata": {
  "kernelspec": {
   "display_name": "Python 3 (ipykernel)",
   "language": "python",
   "name": "python3"
  },
  "language_info": {
   "codemirror_mode": {
    "name": "ipython",
    "version": 3
   },
   "file_extension": ".py",
   "mimetype": "text/x-python",
   "name": "python",
   "nbconvert_exporter": "python",
   "pygments_lexer": "ipython3",
   "version": "3.9.7"
  }
 },
 "nbformat": 4,
 "nbformat_minor": 5
}
